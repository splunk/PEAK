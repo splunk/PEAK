{
 "cells": [
  {
   "cell_type": "markdown",
   "metadata": {},
   "source": [
    "# [PEAK Threat Hunting] M-ATH for Dictionary-based Domain Generation Algorithms"
   ]
  },
  {
   "cell_type": "markdown",
   "metadata": {},
   "source": [
    "This notebook was created in conjunction with the Splunk SURGe <a href=\"https://www.splunk.com/en_us/blog/security/threat-hunting-for-dictionary-dga-with-peak.html\" target=\"_blank\">\"Threat Hunting for Dictionary-DGA\"</a> blog post to demonstrate development of Model-Assisted Threat Hunting approach for detecting Dictionary-based Domain Generation Algorithms, as part of the PEAK Threat Hunting Framework. The notebook is built from the barebone_template.ipynb example workflow built into the Deep Learning and Data Science Toolkit, including how to work on custom containerized code that seamlessly interfaces with your Splunk platform. Find more examples and information in the app and on the [DSDL Splunkbase page](https://splunkbase.splunk.com/app/4607/#/details)."
   ]
  },
  {
   "cell_type": "markdown",
   "metadata": {},
   "source": [
    "Note: By default every time you save this notebook the stages main cells are exported into a python module which can then get invoked by Splunk's MLTK SPL commands like <code> | fit .../ | apply ... | summary </code>. Please read the Model Development Guide in the DSDL app for more information about this workflow."
   ]
  },
  {
   "cell_type": "markdown",
   "metadata": {},
   "source": [
    "<img src=\"https://www.splunk.com/content/dam/splunk-blogs/images/en_us/2022/05/fetterman-math-conclusions.png\" alt=\"PEAK Threat Hunting, by SURGe\" style=\"width: 30%;\">"
   ]
  },
  {
   "cell_type": "markdown",
   "metadata": {},
   "source": [
    "## Stage 0 - import libraries\n",
    "At stage 0 we define all imports necessary to run our subsequent code."
   ]
  },
  {
   "cell_type": "code",
   "execution_count": null,
   "metadata": {
    "deletable": false,
    "name": "mltkc_import",
    "tags": []
   },
   "outputs": [],
   "source": [
    "# this definition exposes all python module imports that should be available in all subsequent commands\n",
    "import os\n",
    "import time\n",
    "import math\n",
    "import pandas as pd\n",
    "import json\n",
    "import tensorflow as tf\n",
    "import numpy as np\n",
    "from tqdm import tqdm\n",
    "import pickle\n",
    "\n",
    "import sklearn\n",
    "from sklearn import metrics\n",
    "from sklearn.metrics import classification_report, roc_curve, auc, accuracy_score\n",
    "from sklearn.model_selection import train_test_split\n",
    "\n",
    "from tensorflow import keras\n",
    "from tensorflow.keras import layers\n",
    "from tensorflow.keras import optimizers\n",
    "from tensorflow.keras.preprocessing import sequence\n",
    "from tensorflow.keras.utils import plot_model\n",
    "from tensorflow.keras.preprocessing.text import Tokenizer\n",
    "tokenizer = Tokenizer(filters='\\t\\n', char_level=True)\n",
    "from tensorflow.keras.callbacks import TensorBoard\n",
    "\n",
    "import matplotlib.pyplot as plt\n",
    "# ...\n",
    "# Model directory will need to be changed if not using DSDL\n",
    "MODEL_DIRECTORY = \"/srv/app/model/data/\"\n",
    "max_domain_length=253"
   ]
  },
  {
   "cell_type": "code",
   "execution_count": 2,
   "metadata": {
    "tags": []
   },
   "outputs": [
    {
     "name": "stdout",
     "output_type": "stream",
     "text": [
      "numpy version: 1.23.5\n",
      "pandas version: 2.0.2\n",
      "tensorflow version: 2.0.2\n",
      "keras version: 2.12.0\n"
     ]
    }
   ],
   "source": [
    "# THIS CELL IS NOT EXPORTED - free notebook cell for testing or development purposes\n",
    "print(\"numpy version: \" + np.__version__)\n",
    "print(\"pandas version: \" + pd.__version__)\n",
    "print(\"tensorflow version: \" + pd.__version__)\n",
    "print(\"keras version: \" + keras.__version__)"
   ]
  },
  {
   "cell_type": "markdown",
   "metadata": {
    "tags": []
   },
   "source": [
    "### Stage 1 - Push data from Splunk\n",
    "\n",
    "There are multiple methods to interact with your Splunk data through DSDL. See the barebones_template.ipynb for options to stream or directly query the REST API. For this notebook, we run a search in Splunk to push a batch of data to run through the model. This should ideally be a deduplicated domain list, e.g.:\n",
    "\n",
    "    | tstats count FROM datamodel=\"Web\" WHERE nodename=\"Web\" BY host\n",
    "    | stats dc(host) as count by host\n",
    "    | fields host\n",
    "    | rename host as domain\n",
    "    | fit MLTKContainer mode=stage algo=dict_dga domain into app:dict_dga\n",
    "    \n",
    "This notebook only depends on the field to analyze being named \"domain\", and the batch of data being staged as 'dict_dga' -- otherwise, modify the next cell. "
   ]
  },
  {
   "cell_type": "code",
   "execution_count": 3,
   "metadata": {
    "deletable": false,
    "name": "mltkc_stage",
    "tags": []
   },
   "outputs": [],
   "source": [
    "# staging function\n",
    "def stage(name):\n",
    "    with open(\"data/\"+name+\".csv\", 'r') as f:\n",
    "        df = pd.read_csv(f)\n",
    "    with open(\"data/\"+name+\".json\", 'r') as f:\n",
    "        param = json.load(f)\n",
    "    return df, param"
   ]
  },
  {
   "cell_type": "code",
   "execution_count": 6,
   "metadata": {
    "tags": []
   },
   "outputs": [],
   "source": [
    "# replace file name if you used something other than \"dict_dga\" in your SPL staging search\n",
    "df, param = stage(\"dict_dga\")"
   ]
  },
  {
   "cell_type": "code",
   "execution_count": null,
   "metadata": {},
   "outputs": [],
   "source": [
    "# Preserve full domain for analysis, domain field goes through pre-processing\n",
    "df['orig_domain'] = df['domain'].copy()"
   ]
  },
  {
   "cell_type": "markdown",
   "metadata": {},
   "source": [
    "## Stage 2 - create and initialize a model\n",
    "Since this is a supervised learning-based hunt, model training and optimization have been conducted separately, and we can just load the pre-trained model.\n",
    "\n",
    "Before executing this cell, import the `dict_dga.zip` file from the GitHub repo, into the path set for `MODEL_DIRECTORY`, and unzip the file."
   ]
  },
  {
   "cell_type": "code",
   "execution_count": 7,
   "metadata": {
    "tags": []
   },
   "outputs": [
    {
     "name": "stdout",
     "output_type": "stream",
     "text": [
      "WARNING:tensorflow:SavedModel saved prior to TF 2.5 detected when loading Keras model. Please ensure that you are saving the model with model.save() or tf.keras.models.save_model(), *NOT* tf.saved_model.save(). To confirm, there should be a file named \"keras_metadata.pb\" in the SavedModel directory.\n"
     ]
    }
   ],
   "source": [
    "model = tf.keras.models.load_model(MODEL_DIRECTORY + 'm-ath_dict_dga_model')"
   ]
  },
  {
   "cell_type": "code",
   "execution_count": 8,
   "metadata": {
    "deletable": false,
    "name": "mltkc_init",
    "tags": []
   },
   "outputs": [],
   "source": [
    "# initialize your model\n",
    "# available inputs: data and parameters\n",
    "# returns the model object which will be used as a reference to call fit, apply and summary subsequently\n",
    "def init(df,param):\n",
    "    model = tf.keras.models.load_model(MODEL_DIRECTORY + \"dict-DGA\")\n",
    "    return model"
   ]
  },
  {
   "cell_type": "markdown",
   "metadata": {},
   "source": [
    "## Stage 3 - apply the model\n",
    "We preprocess the domains to remove the TLDs, then use an LSTM-based neural network to predict the categorization of a domain between 0 (legitimate domain), and 1 (dictionary-based DGA). No other feature engineering is needed."
   ]
  },
  {
   "cell_type": "code",
   "execution_count": 9,
   "metadata": {
    "tags": []
   },
   "outputs": [],
   "source": [
    "def predict(domain):\n",
    "    seq = tokenizer.texts_to_sequences([domain])\n",
    "    X = sequence.pad_sequences(seq, maxlen=max_domain_length)\n",
    "    prediction = model.predict(X)\n",
    "    print(prediction)"
   ]
  },
  {
   "cell_type": "code",
   "execution_count": 11,
   "metadata": {},
   "outputs": [],
   "source": [
    "# Load the tokenizer\n",
    "tokenizer = pickle.load(open(MODEL_DIRECTORY + \"m-ath_pretrain_tokenizer.pkl\", 'rb'))"
   ]
  },
  {
   "cell_type": "code",
   "execution_count": 10,
   "metadata": {
    "tags": []
   },
   "outputs": [],
   "source": [
    "# Load the word list\n",
    "with open(MODEL_DIRECTORY + 'm-ath_pretrain_word_list.pkl', 'rb') as f:\n",
    "    word_list = pickle.load(f)"
   ]
  },
  {
   "cell_type": "code",
   "execution_count": 11,
   "metadata": {
    "tags": []
   },
   "outputs": [],
   "source": [
    "def preprocess(url):\n",
    "    pos = url.rfind('.') # find rightmost dot\n",
    "    if pos >= 0:         # found one\n",
    "        url = url[:pos]\n",
    "    return url\n",
    "\n",
    "def predict(row):\n",
    "    domain = row['domain']\n",
    "    seq = tokenizer.texts_to_sequences([domain])\n",
    "    X = sequence.pad_sequences(seq, maxlen=max_domain_length)\n",
    "    prediction = model.predict(X, verbose=0)\n",
    "    return prediction"
   ]
  },
  {
   "cell_type": "code",
   "execution_count": 15,
   "metadata": {},
   "outputs": [
    {
     "name": "stderr",
     "output_type": "stream",
     "text": [
      "Processing Batch 1/10: 100%|██████████| 10000/10000 [00:06<00:00, 1436.93it/s]\n",
      "Processing Batch 2/10: 100%|██████████| 10000/10000 [00:06<00:00, 1437.71it/s]\n",
      "Processing Batch 3/10: 100%|██████████| 10000/10000 [00:07<00:00, 1428.12it/s]\n",
      "Processing Batch 4/10: 100%|██████████| 10000/10000 [00:07<00:00, 1409.81it/s]\n",
      "Processing Batch 5/10: 100%|██████████| 10000/10000 [00:06<00:00, 1429.34it/s]\n",
      "Processing Batch 6/10: 100%|██████████| 10000/10000 [00:06<00:00, 1432.98it/s]\n",
      "Processing Batch 7/10: 100%|██████████| 10000/10000 [00:07<00:00, 1420.60it/s]\n",
      "Processing Batch 8/10: 100%|██████████| 10000/10000 [00:07<00:00, 1417.64it/s]\n",
      "Processing Batch 9/10: 100%|██████████| 10000/10000 [00:07<00:00, 1405.16it/s]\n",
      "Processing Batch 10/10: 100%|██████████| 9995/9995 [00:07<00:00, 1396.96it/s]\n"
     ]
    }
   ],
   "source": [
    "# Pre-process sample\n",
    "batch_size = 10000\n",
    "num_batches = math.ceil(len(df) / batch_size)\n",
    "\n",
    "for batch_index in range(num_batches):\n",
    "    start_index = batch_index * batch_size\n",
    "    end_index = min((batch_index + 1) * batch_size, len(df))\n",
    "\n",
    "    batch_df = df.iloc[start_index:end_index]\n",
    "    for index, row in tqdm(batch_df.iterrows(), total=len(batch_df), desc=f\"Processing Batch {batch_index+1}/{num_batches}\"):\n",
    "        df.at[index, 'domain'] = preprocess(row['domain'])"
   ]
  },
  {
   "cell_type": "code",
   "execution_count": 26,
   "metadata": {},
   "outputs": [
    {
     "name": "stderr",
     "output_type": "stream",
     "text": [
      "Processing rows: 100%|██████████| 99995/99995 [2:41:58<00:00, 10.29it/s]  \n"
     ]
    }
   ],
   "source": [
    "# Apply the classifier\n",
    "batch_size = 1000\n",
    "num_batches = math.ceil(len(df) / batch_size)\n",
    "\n",
    "with tqdm(total=len(df), desc=\"Processing rows\") as pbar:\n",
    "    for batch_index in range(num_batches):\n",
    "        start_index = batch_index * batch_size\n",
    "        end_index = min((batch_index + 1) * batch_size, len(df))\n",
    "\n",
    "        batch_df = df.iloc[start_index:end_index]\n",
    "        for index, row in batch_df.iterrows():\n",
    "            df.at[index, 'prediction'] = predict(row)\n",
    "            pbar.update(1)"
   ]
  },
  {
   "cell_type": "markdown",
   "metadata": {},
   "source": [
    "## Stage 4 - Review and Interpret Results\n",
    "Set a confidence threshold to increase or decrease the scope of your results. By default the threshold is set at an 60% confidence estimate."
   ]
  },
  {
   "cell_type": "code",
   "execution_count": 41,
   "metadata": {},
   "outputs": [],
   "source": [
    "#### Adjust the prediction value below to change the confidence threshold #####\n",
    "def round_prediction(row):\n",
    "    prediction = row['prediction']\n",
    "    if prediction > 0.6:\n",
    "        return 1\n",
    "    else:\n",
    "        return 0\n",
    "\n",
    "df['rounded_prediction'] = df.apply(round_prediction, axis=1)"
   ]
  },
  {
   "cell_type": "code",
   "execution_count": 45,
   "metadata": {},
   "outputs": [
    {
     "name": "stdout",
     "output_type": "stream",
     "text": [
      "                     domain  label  category  prediction  rounded_prediction\n",
      "42            shahab-moradi      0     legit    0.793433                   1\n",
      "85             peerlearning      0     legit    0.929585                   1\n",
      "89     uppermichiganssource      0     legit    0.636401                   1\n",
      "119          christinahello      0     legit    0.973005                   1\n",
      "132       zimbabwesituation      0     legit    0.961348                   1\n",
      "...                     ...    ...       ...         ...                 ...\n",
      "99990    antonetteblackwood      1  suppobox    0.997491                   1\n",
      "99991          personsystem      1  suppobox    0.974134                   1\n",
      "99992          husbandwomen      1  suppobox    0.999760                   1\n",
      "99993     annabellethaddeus      1  suppobox    0.981106                   1\n",
      "99994     hendersonashleigh      1  suppobox    0.995310                   1\n",
      "\n",
      "[81815 rows x 5 columns]\n"
     ]
    }
   ],
   "source": [
    "selected_rows = df[df['rounded_prediction'] == 1][['orig_domain', 'prediction', 'rounded_prediction']].sort_values('prediction', ascending=False)\n",
    "print(selected_rows)"
   ]
  },
  {
   "cell_type": "markdown",
   "metadata": {},
   "source": [
    "### Evaluation"
   ]
  },
  {
   "cell_type": "markdown",
   "metadata": {},
   "source": [
    "This section of cells are available to demonstrate how to evaluate against your own labeled sample"
   ]
  },
  {
   "cell_type": "code",
   "execution_count": 42,
   "metadata": {},
   "outputs": [],
   "source": [
    "# def calculate_accuracy(df):\n",
    "#     total_samples = len(df)\n",
    "#     correct_predictions = (df['label'] == df['rounded_prediction']).sum()\n",
    "#     accuracy = (correct_predictions / total_samples) * 100\n",
    "#     return accuracy"
   ]
  },
  {
   "cell_type": "code",
   "execution_count": 43,
   "metadata": {},
   "outputs": [
    {
     "name": "stdout",
     "output_type": "stream",
     "text": [
      "Accuracy: 94.92074603730187\n"
     ]
    }
   ],
   "source": [
    "# accuracy_score = calculate_accuracy(df)\n",
    "# print(\"Accuracy:\", accuracy_score)"
   ]
  },
  {
   "cell_type": "code",
   "execution_count": 44,
   "metadata": {},
   "outputs": [
    {
     "name": "stdout",
     "output_type": "stream",
     "text": [
      "[[13693   592]\n",
      " [ 4487 81223]]\n"
     ]
    }
   ],
   "source": [
    "# from sklearn.metrics import confusion_matrix\n",
    "\n",
    "# labels = df['label']\n",
    "# predictions = df['rounded_prediction']\n",
    "\n",
    "# # Generate the confusion matrix\n",
    "# confusion_mat = confusion_matrix(labels, predictions)\n",
    "\n",
    "# print(confusion_mat)"
   ]
  },
  {
   "cell_type": "code",
   "execution_count": 46,
   "metadata": {},
   "outputs": [
    {
     "data": {
      "image/png": "[encoded data removed]",
      "text/plain": [
       "<Figure size 600x400 with 2 Axes>"
      ]
     },
     "metadata": {},
     "output_type": "display_data"
    }
   ],
   "source": [
    "# labels = ['Negative', 'Positive']  # Labels for the classes\n",
    "\n",
    "# # Create a figure and axes\n",
    "# fig, ax = plt.subplots(figsize=(6, 4))\n",
    "\n",
    "# # Create a heatmap for the confusion matrix\n",
    "# im = ax.imshow(confusion_mat, cmap='Blues')\n",
    "\n",
    "# # Add colorbar\n",
    "# cbar = ax.figure.colorbar(im, ax=ax)\n",
    "\n",
    "# # Set tick labels\n",
    "# ax.set_xticks(np.arange(len(labels)))\n",
    "# ax.set_yticks(np.arange(len(labels)))\n",
    "# ax.set_xticklabels(labels)\n",
    "# ax.set_yticklabels(labels)\n",
    "\n",
    "# # Loop over data dimensions and create text annotations\n",
    "# for i in range(len(labels)):\n",
    "#     for j in range(len(labels)):\n",
    "#         text = ax.text(j, i, confusion_mat[i, j], ha='center', va='center', color='black')\n",
    "\n",
    "# # Set plot labels\n",
    "# ax.set_xlabel('Predicted')\n",
    "# ax.set_ylabel('Actual')\n",
    "# ax.set_title('Confusion Matrix')\n",
    "\n",
    "# # Display the plot\n",
    "# plt.show()"
   ]
  },
  {
   "cell_type": "code",
   "execution_count": 48,
   "metadata": {},
   "outputs": [
    {
     "name": "stdout",
     "output_type": "stream",
     "text": [
      "category\n",
      "big_viktor    0.793630\n",
      "gozi          0.973329\n",
      "legit         0.958558\n",
      "matsnu        0.991040\n",
      "nymaim        0.928946\n",
      "pizd          1.000000\n",
      "suppobox      0.998950\n",
      "dtype: float64\n"
     ]
    }
   ],
   "source": [
    "# # Calculate prediction accuracy for each category\n",
    "# accuracy_per_category = df.groupby('category').apply(lambda x: (x['label'] == x['rounded_prediction']).mean())\n",
    "\n",
    "# # Display the accuracy per category\n",
    "# print(accuracy_per_category)"
   ]
  },
  {
   "cell_type": "markdown",
   "metadata": {},
   "source": [
    "### Enrich / Analyze \n",
    "Here you can add other integrations depending on the resources available to your organization (e.g. Domain registration, URL reputation, etc.). Enrichment can help your analysts further interpret results and find interesting leads.\n"
   ]
  },
  {
   "cell_type": "code",
   "execution_count": null,
   "metadata": {},
   "outputs": [],
   "source": []
  }
 ],
 "metadata": {
  "kernelspec": {
   "display_name": "Python 3 (ipykernel)",
   "language": "python",
   "name": "python3"
  },
  "language_info": {
   "codemirror_mode": {
    "name": "ipython",
    "version": 3
   },
   "file_extension": ".py",
   "mimetype": "text/x-python",
   "name": "python",
   "nbconvert_exporter": "python",
   "pygments_lexer": "ipython3",
   "version": "3.8.5"
  }
 },
 "nbformat": 4,
 "nbformat_minor": 4
}
